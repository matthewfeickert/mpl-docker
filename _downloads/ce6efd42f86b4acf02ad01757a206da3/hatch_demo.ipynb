{
  "cells": [
    {
      "cell_type": "code",
      "execution_count": null,
      "metadata": {
        "collapsed": false
      },
      "outputs": [],
      "source": [
        "%matplotlib inline"
      ]
    },
    {
      "cell_type": "markdown",
      "metadata": {},
      "source": [
        "\n# Hatch Demo\n\n\nHatching (pattern filled polygons) is supported currently in the PS,\nPDF, SVG and Agg backends only.\n"
      ]
    },
    {
      "cell_type": "code",
      "execution_count": null,
      "metadata": {
        "collapsed": false
      },
      "outputs": [],
      "source": [
        "import numpy as np\nimport matplotlib.pyplot as plt\nfrom matplotlib.patches import Ellipse, Polygon\n\nx = np.arange(1, 5)\ny1 = np.arange(1, 5)\ny2 = np.ones(y1.shape) * 4\n\nfig, (ax1, ax2, ax3) = plt.subplots(3)\n\nax1.bar(x, y1, edgecolor='black', hatch=\"/\")\nax1.bar(x, y2, bottom=y1, edgecolor='black', hatch='//')\nax1.set_xticks([1.5, 2.5, 3.5, 4.5])\n\nax2.bar(x, y1, edgecolor='black', hatch=['-', '+', 'x', '\\\\'])\nax2.bar(x, y2, bottom=y1, edgecolor='black', hatch=['*', 'o', 'O', '.'])\nax2.set_xticks([1.5, 2.5, 3.5, 4.5])\n\nax3.fill([1, 3, 3, 1], [1, 1, 2, 2], fill=False, hatch='\\\\')\nax3.add_patch(Ellipse((4, 1.5), 4, 0.5, fill=False, hatch='*'))\nax3.add_patch(Polygon([[0, 0], [4, 1.1], [6, 2.5], [2, 1.4]], closed=True,\n                      fill=False, hatch='/'))\nax3.set_xlim((0, 6))\nax3.set_ylim((0, 2.5))\n\nplt.show()"
      ]
    },
    {
      "cell_type": "markdown",
      "metadata": {},
      "source": [
        "------------\n\nReferences\n\"\"\"\"\"\"\"\"\"\"\n\nThe use of the following functions, methods, classes and modules is shown\nin this example:\n\n"
      ]
    },
    {
      "cell_type": "code",
      "execution_count": null,
      "metadata": {
        "collapsed": false
      },
      "outputs": [],
      "source": [
        "import matplotlib\nmatplotlib.patches\nmatplotlib.patches.Ellipse\nmatplotlib.patches.Polygon\nmatplotlib.axes.Axes.add_patch\nmatplotlib.patches.Patch.set_hatch\nmatplotlib.axes.Axes.bar\nmatplotlib.pyplot.bar"
      ]
    }
  ],
  "metadata": {
    "kernelspec": {
      "display_name": "Python 3",
      "language": "python",
      "name": "python3"
    },
    "language_info": {
      "codemirror_mode": {
        "name": "ipython",
        "version": 3
      },
      "file_extension": ".py",
      "mimetype": "text/x-python",
      "name": "python",
      "nbconvert_exporter": "python",
      "pygments_lexer": "ipython3",
      "version": "3.8.3"
    }
  },
  "nbformat": 4,
  "nbformat_minor": 0
}